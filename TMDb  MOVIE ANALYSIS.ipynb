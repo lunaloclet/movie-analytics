{
 "cells": [
  {
   "cell_type": "markdown",
   "id": "2c6f9092",
   "metadata": {},
   "source": [
    "\n",
    "# [TMDb Movie Analysis ]\n",
    "\n",
    "## Table of Contents\n",
    "<ul>\n",
    "<li><a href=\"#intro\">Introduction</a></li>\n",
    "<li><a href=\"#wrangling\">Data Wrangling</a></li>\n",
    "<li><a href=\"#eda\">Exploratory Data Analysis</a></li>\n",
    "<li><a href=\"#conclusions\">Conclusions</a></li>\n",
    "</ul>\n",
    "\n",
    "## Introduction\n",
    "\n",
    "### About the Dataset\n",
    "The dataset was colllected from The Movie Database(TMDd).It contains records of 10,866 movies.More information on the dataset can be accessed on[Kaggle](https://www.kaggle.com/datasets/tmdb/tmdb-movie-metadata)."
   ]
  },
  {
   "cell_type": "code",
   "execution_count": 1,
   "id": "637019e4",
   "metadata": {},
   "outputs": [],
   "source": [
    "## load packages\n",
    "import pandas as pd\n",
    "import numpy as np\n",
    "import matplotlib.pyplot as plt\n",
    "%matplotlib inline\n",
    "import calendar\n",
    "from matplotlib.pyplot import figure\n",
    "import seaborn as sns\n"
   ]
  },
  {
   "cell_type": "code",
   "execution_count": 2,
   "id": "a3ae6d57",
   "metadata": {},
   "outputs": [
    {
     "data": {
      "text/html": [
       "<div>\n",
       "<style scoped>\n",
       "    .dataframe tbody tr th:only-of-type {\n",
       "        vertical-align: middle;\n",
       "    }\n",
       "\n",
       "    .dataframe tbody tr th {\n",
       "        vertical-align: top;\n",
       "    }\n",
       "\n",
       "    .dataframe thead th {\n",
       "        text-align: right;\n",
       "    }\n",
       "</style>\n",
       "<table border=\"1\" class=\"dataframe\">\n",
       "  <thead>\n",
       "    <tr style=\"text-align: right;\">\n",
       "      <th></th>\n",
       "      <th>id</th>\n",
       "      <th>imdb_id</th>\n",
       "      <th>popularity</th>\n",
       "      <th>budget</th>\n",
       "      <th>revenue</th>\n",
       "      <th>original_title</th>\n",
       "      <th>cast</th>\n",
       "      <th>homepage</th>\n",
       "      <th>director</th>\n",
       "      <th>tagline</th>\n",
       "      <th>...</th>\n",
       "      <th>overview</th>\n",
       "      <th>runtime</th>\n",
       "      <th>genres</th>\n",
       "      <th>production_companies</th>\n",
       "      <th>release_date</th>\n",
       "      <th>vote_count</th>\n",
       "      <th>vote_average</th>\n",
       "      <th>release_year</th>\n",
       "      <th>budget_adj</th>\n",
       "      <th>revenue_adj</th>\n",
       "    </tr>\n",
       "  </thead>\n",
       "  <tbody>\n",
       "    <tr>\n",
       "      <th>0</th>\n",
       "      <td>135397</td>\n",
       "      <td>tt0369610</td>\n",
       "      <td>32.985763</td>\n",
       "      <td>150000000</td>\n",
       "      <td>1513528810</td>\n",
       "      <td>Jurassic World</td>\n",
       "      <td>Chris Pratt|Bryce Dallas Howard|Irrfan Khan|Vi...</td>\n",
       "      <td>http://www.jurassicworld.com/</td>\n",
       "      <td>Colin Trevorrow</td>\n",
       "      <td>The park is open.</td>\n",
       "      <td>...</td>\n",
       "      <td>Twenty-two years after the events of Jurassic ...</td>\n",
       "      <td>124</td>\n",
       "      <td>Action|Adventure|Science Fiction|Thriller</td>\n",
       "      <td>Universal Studios|Amblin Entertainment|Legenda...</td>\n",
       "      <td>6/9/15</td>\n",
       "      <td>5562</td>\n",
       "      <td>6.5</td>\n",
       "      <td>2015</td>\n",
       "      <td>1.379999e+08</td>\n",
       "      <td>1.392446e+09</td>\n",
       "    </tr>\n",
       "    <tr>\n",
       "      <th>1</th>\n",
       "      <td>76341</td>\n",
       "      <td>tt1392190</td>\n",
       "      <td>28.419936</td>\n",
       "      <td>150000000</td>\n",
       "      <td>378436354</td>\n",
       "      <td>Mad Max: Fury Road</td>\n",
       "      <td>Tom Hardy|Charlize Theron|Hugh Keays-Byrne|Nic...</td>\n",
       "      <td>http://www.madmaxmovie.com/</td>\n",
       "      <td>George Miller</td>\n",
       "      <td>What a Lovely Day.</td>\n",
       "      <td>...</td>\n",
       "      <td>An apocalyptic story set in the furthest reach...</td>\n",
       "      <td>120</td>\n",
       "      <td>Action|Adventure|Science Fiction|Thriller</td>\n",
       "      <td>Village Roadshow Pictures|Kennedy Miller Produ...</td>\n",
       "      <td>5/13/15</td>\n",
       "      <td>6185</td>\n",
       "      <td>7.1</td>\n",
       "      <td>2015</td>\n",
       "      <td>1.379999e+08</td>\n",
       "      <td>3.481613e+08</td>\n",
       "    </tr>\n",
       "  </tbody>\n",
       "</table>\n",
       "<p>2 rows × 21 columns</p>\n",
       "</div>"
      ],
      "text/plain": [
       "       id    imdb_id  popularity     budget     revenue      original_title  \\\n",
       "0  135397  tt0369610   32.985763  150000000  1513528810      Jurassic World   \n",
       "1   76341  tt1392190   28.419936  150000000   378436354  Mad Max: Fury Road   \n",
       "\n",
       "                                                cast  \\\n",
       "0  Chris Pratt|Bryce Dallas Howard|Irrfan Khan|Vi...   \n",
       "1  Tom Hardy|Charlize Theron|Hugh Keays-Byrne|Nic...   \n",
       "\n",
       "                        homepage         director             tagline  ...  \\\n",
       "0  http://www.jurassicworld.com/  Colin Trevorrow   The park is open.  ...   \n",
       "1    http://www.madmaxmovie.com/    George Miller  What a Lovely Day.  ...   \n",
       "\n",
       "                                            overview runtime  \\\n",
       "0  Twenty-two years after the events of Jurassic ...     124   \n",
       "1  An apocalyptic story set in the furthest reach...     120   \n",
       "\n",
       "                                      genres  \\\n",
       "0  Action|Adventure|Science Fiction|Thriller   \n",
       "1  Action|Adventure|Science Fiction|Thriller   \n",
       "\n",
       "                                production_companies release_date vote_count  \\\n",
       "0  Universal Studios|Amblin Entertainment|Legenda...       6/9/15       5562   \n",
       "1  Village Roadshow Pictures|Kennedy Miller Produ...      5/13/15       6185   \n",
       "\n",
       "   vote_average  release_year    budget_adj   revenue_adj  \n",
       "0           6.5          2015  1.379999e+08  1.392446e+09  \n",
       "1           7.1          2015  1.379999e+08  3.481613e+08  \n",
       "\n",
       "[2 rows x 21 columns]"
      ]
     },
     "execution_count": 2,
     "metadata": {},
     "output_type": "execute_result"
    }
   ],
   "source": [
    "# load the dataset\n",
    "data = pd.read_csv(\"tmdb-movies.csv\")\n",
    "data.head(2)"
   ]
  },
  {
   "cell_type": "code",
   "execution_count": 3,
   "id": "72b6b644",
   "metadata": {},
   "outputs": [
    {
     "data": {
      "text/plain": [
       "(10866, 21)"
      ]
     },
     "execution_count": 3,
     "metadata": {},
     "output_type": "execute_result"
    }
   ],
   "source": [
    "data.shape"
   ]
  },
  {
   "cell_type": "code",
   "execution_count": 4,
   "id": "ee45ca61",
   "metadata": {},
   "outputs": [
    {
     "data": {
      "text/plain": [
       "Index(['id', 'imdb_id', 'popularity', 'budget', 'revenue', 'original_title',\n",
       "       'cast', 'homepage', 'director', 'tagline', 'keywords', 'overview',\n",
       "       'runtime', 'genres', 'production_companies', 'release_date',\n",
       "       'vote_count', 'vote_average', 'release_year', 'budget_adj',\n",
       "       'revenue_adj'],\n",
       "      dtype='object')"
      ]
     },
     "execution_count": 4,
     "metadata": {},
     "output_type": "execute_result"
    }
   ],
   "source": [
    "data.columns"
   ]
  },
  {
   "cell_type": "markdown",
   "id": "d0eac67b",
   "metadata": {},
   "source": [
    "The dataset contains 10,866 rows and 21 columns.The `imdb_id` and `id` columns record the idenfitication number of each movie.`popularity` is a rating of how the movies by reviewers.The `budget`,`revenue`,`budget_adj` and `revenue_adj` contain information on the amount ofmoney used and generated by the movies.The last two columns contain the same info as the budget and revenue columns but adjusted to the 2010 levels.The remaining  columns record the title,cast,website,director,tagline,keywords,length of the movie,genres,companies who produced the movie and the release date,number of people who rated the movie,their average and the year the movie was released.\n",
    "\n",
    "   "
   ]
  },
  {
   "cell_type": "markdown",
   "id": "390cb002",
   "metadata": {},
   "source": [
    "### Questions for Analysis\n",
    "This analysis will utilise this dataset to provide answers to the following questions:\n",
    "\n",
    "    a) Are movies becoming popular and profitable over time?\n",
    "    b) What Genres are the most popular?\n",
    "    c) Is there any relationship between popularity and profit of movies?\n",
    "    \n",
    "   "
   ]
  },
  {
   "cell_type": "markdown",
   "id": "918ecb44",
   "metadata": {},
   "source": [
    "## Data Wrangling\n",
    "In this  section the data will be wrangled to ensure accuracy and completeness."
   ]
  },
  {
   "cell_type": "code",
   "execution_count": 5,
   "id": "daa69add",
   "metadata": {},
   "outputs": [
    {
     "data": {
      "text/plain": [
       "True"
      ]
     },
     "execution_count": 5,
     "metadata": {},
     "output_type": "execute_result"
    }
   ],
   "source": [
    "## checking for duplicates\n",
    "data.duplicated().any()\n"
   ]
  },
  {
   "cell_type": "code",
   "execution_count": 6,
   "id": "3036bcee",
   "metadata": {},
   "outputs": [
    {
     "data": {
      "text/plain": [
       "1"
      ]
     },
     "execution_count": 6,
     "metadata": {},
     "output_type": "execute_result"
    }
   ],
   "source": [
    "data.duplicated().sum()"
   ]
  },
  {
   "cell_type": "markdown",
   "id": "e763c5f0",
   "metadata": {},
   "source": [
    "Only one record is a duplicated.This is  minute and we can drop these record without need for further checks."
   ]
  },
  {
   "cell_type": "code",
   "execution_count": 7,
   "id": "b579b5e1",
   "metadata": {},
   "outputs": [
    {
     "data": {
      "text/plain": [
       "False"
      ]
     },
     "execution_count": 7,
     "metadata": {},
     "output_type": "execute_result"
    }
   ],
   "source": [
    "## drop duplicated row\n",
    "data.drop_duplicates(inplace = True)\n",
    "## confirm deletion of duplicate\n",
    "data.duplicated().any()"
   ]
  },
  {
   "cell_type": "code",
   "execution_count": 8,
   "id": "d2585b3f",
   "metadata": {},
   "outputs": [
    {
     "data": {
      "text/plain": [
       "id                         0\n",
       "imdb_id                   10\n",
       "popularity                 0\n",
       "budget                     0\n",
       "revenue                    0\n",
       "original_title             0\n",
       "cast                      76\n",
       "homepage                7929\n",
       "director                  44\n",
       "tagline                 2824\n",
       "keywords                1493\n",
       "overview                   4\n",
       "runtime                    0\n",
       "genres                    23\n",
       "production_companies    1030\n",
       "release_date               0\n",
       "vote_count                 0\n",
       "vote_average               0\n",
       "release_year               0\n",
       "budget_adj                 0\n",
       "revenue_adj                0\n",
       "dtype: int64"
      ]
     },
     "execution_count": 8,
     "metadata": {},
     "output_type": "execute_result"
    }
   ],
   "source": [
    "## check for missing values\n",
    "data.isnull().sum()"
   ]
  },
  {
   "cell_type": "markdown",
   "id": "61abd06c",
   "metadata": {},
   "source": [
    "The dataset has alot of missing values! Fortunately columns with chronic  missingness like homepage will not be useful in this analysis.Other extraneous columns like imdb_id,tagline,overview,keyword,revenue and budget will be dropped.For revenue and budget of the movies,we shall utilise the 2010 adjusted values present in the last two columns.The id  and imdb_are similar ths we shall only keep the one without missing values.Release date contains more information than release year thus we hsa;; drop the latter.With these removal the following columns shall be left with missing values;cast,keywords,genres and production_companies."
   ]
  },
  {
   "cell_type": "code",
   "execution_count": 9,
   "id": "8f171180",
   "metadata": {},
   "outputs": [
    {
     "data": {
      "text/plain": [
       "(10865, 10)"
      ]
     },
     "execution_count": 9,
     "metadata": {},
     "output_type": "execute_result"
    }
   ],
   "source": [
    "## Dropping extraneous columns\n",
    "col_drop = [\"imdb_id\",\"budget\",\"revenue\",\"homepage\",\"keywords\",\"tagline\",\"overview\",\"vote_average\",\"cast\",\"production_companies\",\"director\"]\n",
    "data_v1 = data.drop(col_drop,axis = 1)\n",
    "## confirm reduction of columns to 15\n",
    "data_v1.shape"
   ]
  },
  {
   "cell_type": "markdown",
   "id": "dbe6bcda",
   "metadata": {},
   "source": [
    "Missing values in the 'genre' will be filled with `unknown` of each variable to prevent loss of other data."
   ]
  },
  {
   "cell_type": "code",
   "execution_count": 10,
   "id": "7a4d017a",
   "metadata": {},
   "outputs": [
    {
     "data": {
      "text/plain": [
       "id                0\n",
       "popularity        0\n",
       "original_title    0\n",
       "runtime           0\n",
       "genres            0\n",
       "release_date      0\n",
       "vote_count        0\n",
       "release_year      0\n",
       "budget_adj        0\n",
       "revenue_adj       0\n",
       "dtype: int64"
      ]
     },
     "execution_count": 10,
     "metadata": {},
     "output_type": "execute_result"
    }
   ],
   "source": [
    "## fill missing values in genre column with unknown\n",
    "data_v1['genres'].fillna(\"unknown\",inplace = True)\n",
    "## confirm changes\n",
    "data_v1.isnull().sum()"
   ]
  },
  {
   "cell_type": "markdown",
   "id": "b10d1a70",
   "metadata": {},
   "source": [
    "The `genre` variable contains multiple values.For this analysis we shall require only the first genre."
   ]
  },
  {
   "cell_type": "code",
   "execution_count": 11,
   "id": "24b85f23",
   "metadata": {},
   "outputs": [
    {
     "data": {
      "text/html": [
       "<div>\n",
       "<style scoped>\n",
       "    .dataframe tbody tr th:only-of-type {\n",
       "        vertical-align: middle;\n",
       "    }\n",
       "\n",
       "    .dataframe tbody tr th {\n",
       "        vertical-align: top;\n",
       "    }\n",
       "\n",
       "    .dataframe thead th {\n",
       "        text-align: right;\n",
       "    }\n",
       "</style>\n",
       "<table border=\"1\" class=\"dataframe\">\n",
       "  <thead>\n",
       "    <tr style=\"text-align: right;\">\n",
       "      <th></th>\n",
       "      <th>id</th>\n",
       "      <th>popularity</th>\n",
       "      <th>original_title</th>\n",
       "      <th>runtime</th>\n",
       "      <th>genres</th>\n",
       "      <th>release_date</th>\n",
       "      <th>vote_count</th>\n",
       "      <th>release_year</th>\n",
       "      <th>budget_adj</th>\n",
       "      <th>revenue_adj</th>\n",
       "      <th>genre</th>\n",
       "    </tr>\n",
       "  </thead>\n",
       "  <tbody>\n",
       "    <tr>\n",
       "      <th>0</th>\n",
       "      <td>135397</td>\n",
       "      <td>32.985763</td>\n",
       "      <td>Jurassic World</td>\n",
       "      <td>124</td>\n",
       "      <td>Action|Adventure|Science Fiction|Thriller</td>\n",
       "      <td>6/9/15</td>\n",
       "      <td>5562</td>\n",
       "      <td>2015</td>\n",
       "      <td>1.379999e+08</td>\n",
       "      <td>1.392446e+09</td>\n",
       "      <td>Action</td>\n",
       "    </tr>\n",
       "    <tr>\n",
       "      <th>1</th>\n",
       "      <td>76341</td>\n",
       "      <td>28.419936</td>\n",
       "      <td>Mad Max: Fury Road</td>\n",
       "      <td>120</td>\n",
       "      <td>Action|Adventure|Science Fiction|Thriller</td>\n",
       "      <td>5/13/15</td>\n",
       "      <td>6185</td>\n",
       "      <td>2015</td>\n",
       "      <td>1.379999e+08</td>\n",
       "      <td>3.481613e+08</td>\n",
       "      <td>Action</td>\n",
       "    </tr>\n",
       "    <tr>\n",
       "      <th>2</th>\n",
       "      <td>262500</td>\n",
       "      <td>13.112507</td>\n",
       "      <td>Insurgent</td>\n",
       "      <td>119</td>\n",
       "      <td>Adventure|Science Fiction|Thriller</td>\n",
       "      <td>3/18/15</td>\n",
       "      <td>2480</td>\n",
       "      <td>2015</td>\n",
       "      <td>1.012000e+08</td>\n",
       "      <td>2.716190e+08</td>\n",
       "      <td>Adventure</td>\n",
       "    </tr>\n",
       "    <tr>\n",
       "      <th>3</th>\n",
       "      <td>140607</td>\n",
       "      <td>11.173104</td>\n",
       "      <td>Star Wars: The Force Awakens</td>\n",
       "      <td>136</td>\n",
       "      <td>Action|Adventure|Science Fiction|Fantasy</td>\n",
       "      <td>12/15/15</td>\n",
       "      <td>5292</td>\n",
       "      <td>2015</td>\n",
       "      <td>1.839999e+08</td>\n",
       "      <td>1.902723e+09</td>\n",
       "      <td>Action</td>\n",
       "    </tr>\n",
       "  </tbody>\n",
       "</table>\n",
       "</div>"
      ],
      "text/plain": [
       "       id  popularity                original_title  runtime  \\\n",
       "0  135397   32.985763                Jurassic World      124   \n",
       "1   76341   28.419936            Mad Max: Fury Road      120   \n",
       "2  262500   13.112507                     Insurgent      119   \n",
       "3  140607   11.173104  Star Wars: The Force Awakens      136   \n",
       "\n",
       "                                      genres release_date  vote_count  \\\n",
       "0  Action|Adventure|Science Fiction|Thriller       6/9/15        5562   \n",
       "1  Action|Adventure|Science Fiction|Thriller      5/13/15        6185   \n",
       "2         Adventure|Science Fiction|Thriller      3/18/15        2480   \n",
       "3   Action|Adventure|Science Fiction|Fantasy     12/15/15        5292   \n",
       "\n",
       "   release_year    budget_adj   revenue_adj      genre  \n",
       "0          2015  1.379999e+08  1.392446e+09     Action  \n",
       "1          2015  1.379999e+08  3.481613e+08     Action  \n",
       "2          2015  1.012000e+08  2.716190e+08  Adventure  \n",
       "3          2015  1.839999e+08  1.902723e+09     Action  "
      ]
     },
     "execution_count": 11,
     "metadata": {},
     "output_type": "execute_result"
    }
   ],
   "source": [
    "## extracting the first  genre for each movie\n",
    "genre = data_v1.genres.str.split('|',expand = True)\n",
    "data_v1['genre'] = genre[0]\n",
    "data_v1.head(4)"
   ]
  },
  {
   "cell_type": "code",
   "execution_count": 12,
   "id": "b72d8189",
   "metadata": {},
   "outputs": [
    {
     "data": {
      "text/plain": [
       "Index(['id', 'popularity', 'original_title', 'runtime', 'genres',\n",
       "       'release_date', 'vote_count', 'release_year', 'budget_adj',\n",
       "       'revenue_adj', 'genre'],\n",
       "      dtype='object')"
      ]
     },
     "execution_count": 12,
     "metadata": {},
     "output_type": "execute_result"
    }
   ],
   "source": [
    "## confirm new columns\n",
    "data_v1.columns"
   ]
  },
  {
   "cell_type": "code",
   "execution_count": 13,
   "id": "3cc45878",
   "metadata": {},
   "outputs": [
    {
     "data": {
      "text/html": [
       "<div>\n",
       "<style scoped>\n",
       "    .dataframe tbody tr th:only-of-type {\n",
       "        vertical-align: middle;\n",
       "    }\n",
       "\n",
       "    .dataframe tbody tr th {\n",
       "        vertical-align: top;\n",
       "    }\n",
       "\n",
       "    .dataframe thead th {\n",
       "        text-align: right;\n",
       "    }\n",
       "</style>\n",
       "<table border=\"1\" class=\"dataframe\">\n",
       "  <thead>\n",
       "    <tr style=\"text-align: right;\">\n",
       "      <th></th>\n",
       "      <th>id</th>\n",
       "      <th>popularity</th>\n",
       "      <th>original_title</th>\n",
       "      <th>runtime</th>\n",
       "      <th>release_date</th>\n",
       "      <th>vote_count</th>\n",
       "      <th>release_year</th>\n",
       "      <th>budget_adj</th>\n",
       "      <th>revenue_adj</th>\n",
       "      <th>genre</th>\n",
       "    </tr>\n",
       "  </thead>\n",
       "  <tbody>\n",
       "    <tr>\n",
       "      <th>10861</th>\n",
       "      <td>21</td>\n",
       "      <td>0.080598</td>\n",
       "      <td>The Endless Summer</td>\n",
       "      <td>95</td>\n",
       "      <td>6/15/66</td>\n",
       "      <td>11</td>\n",
       "      <td>1966</td>\n",
       "      <td>0.000000</td>\n",
       "      <td>0.0</td>\n",
       "      <td>Documentary</td>\n",
       "    </tr>\n",
       "    <tr>\n",
       "      <th>10862</th>\n",
       "      <td>20379</td>\n",
       "      <td>0.065543</td>\n",
       "      <td>Grand Prix</td>\n",
       "      <td>176</td>\n",
       "      <td>12/21/66</td>\n",
       "      <td>20</td>\n",
       "      <td>1966</td>\n",
       "      <td>0.000000</td>\n",
       "      <td>0.0</td>\n",
       "      <td>Action</td>\n",
       "    </tr>\n",
       "    <tr>\n",
       "      <th>10863</th>\n",
       "      <td>39768</td>\n",
       "      <td>0.065141</td>\n",
       "      <td>Beregis Avtomobilya</td>\n",
       "      <td>94</td>\n",
       "      <td>1/1/66</td>\n",
       "      <td>11</td>\n",
       "      <td>1966</td>\n",
       "      <td>0.000000</td>\n",
       "      <td>0.0</td>\n",
       "      <td>Mystery</td>\n",
       "    </tr>\n",
       "    <tr>\n",
       "      <th>10864</th>\n",
       "      <td>21449</td>\n",
       "      <td>0.064317</td>\n",
       "      <td>What's Up, Tiger Lily?</td>\n",
       "      <td>80</td>\n",
       "      <td>11/2/66</td>\n",
       "      <td>22</td>\n",
       "      <td>1966</td>\n",
       "      <td>0.000000</td>\n",
       "      <td>0.0</td>\n",
       "      <td>Action</td>\n",
       "    </tr>\n",
       "    <tr>\n",
       "      <th>10865</th>\n",
       "      <td>22293</td>\n",
       "      <td>0.035919</td>\n",
       "      <td>Manos: The Hands of Fate</td>\n",
       "      <td>74</td>\n",
       "      <td>11/15/66</td>\n",
       "      <td>15</td>\n",
       "      <td>1966</td>\n",
       "      <td>127642.279154</td>\n",
       "      <td>0.0</td>\n",
       "      <td>Horror</td>\n",
       "    </tr>\n",
       "  </tbody>\n",
       "</table>\n",
       "</div>"
      ],
      "text/plain": [
       "          id  popularity            original_title  runtime release_date  \\\n",
       "10861     21    0.080598        The Endless Summer       95      6/15/66   \n",
       "10862  20379    0.065543                Grand Prix      176     12/21/66   \n",
       "10863  39768    0.065141       Beregis Avtomobilya       94       1/1/66   \n",
       "10864  21449    0.064317    What's Up, Tiger Lily?       80      11/2/66   \n",
       "10865  22293    0.035919  Manos: The Hands of Fate       74     11/15/66   \n",
       "\n",
       "       vote_count  release_year     budget_adj  revenue_adj        genre  \n",
       "10861          11          1966       0.000000          0.0  Documentary  \n",
       "10862          20          1966       0.000000          0.0       Action  \n",
       "10863          11          1966       0.000000          0.0      Mystery  \n",
       "10864          22          1966       0.000000          0.0       Action  \n",
       "10865          15          1966  127642.279154          0.0       Horror  "
      ]
     },
     "execution_count": 13,
     "metadata": {},
     "output_type": "execute_result"
    }
   ],
   "source": [
    "## dropping the extraneous column\n",
    "data_v2 = data_v1.drop('genres',axis = 1)\n",
    "data_v2.tail()"
   ]
  },
  {
   "cell_type": "code",
   "execution_count": 14,
   "id": "aa118ff2",
   "metadata": {},
   "outputs": [
    {
     "data": {
      "text/html": [
       "<div>\n",
       "<style scoped>\n",
       "    .dataframe tbody tr th:only-of-type {\n",
       "        vertical-align: middle;\n",
       "    }\n",
       "\n",
       "    .dataframe tbody tr th {\n",
       "        vertical-align: top;\n",
       "    }\n",
       "\n",
       "    .dataframe thead th {\n",
       "        text-align: right;\n",
       "    }\n",
       "</style>\n",
       "<table border=\"1\" class=\"dataframe\">\n",
       "  <thead>\n",
       "    <tr style=\"text-align: right;\">\n",
       "      <th></th>\n",
       "      <th>id</th>\n",
       "      <th>popularity</th>\n",
       "      <th>runtime</th>\n",
       "      <th>vote_count</th>\n",
       "      <th>release_year</th>\n",
       "      <th>budget_adj</th>\n",
       "      <th>revenue_adj</th>\n",
       "    </tr>\n",
       "  </thead>\n",
       "  <tbody>\n",
       "    <tr>\n",
       "      <th>count</th>\n",
       "      <td>10865.000000</td>\n",
       "      <td>10865.000000</td>\n",
       "      <td>10865.000000</td>\n",
       "      <td>10865.000000</td>\n",
       "      <td>10865.000000</td>\n",
       "      <td>1.086500e+04</td>\n",
       "      <td>1.086500e+04</td>\n",
       "    </tr>\n",
       "    <tr>\n",
       "      <th>mean</th>\n",
       "      <td>66066.374413</td>\n",
       "      <td>0.646446</td>\n",
       "      <td>102.071790</td>\n",
       "      <td>217.399632</td>\n",
       "      <td>2001.321859</td>\n",
       "      <td>1.754989e+07</td>\n",
       "      <td>5.136900e+07</td>\n",
       "    </tr>\n",
       "    <tr>\n",
       "      <th>std</th>\n",
       "      <td>92134.091971</td>\n",
       "      <td>1.000231</td>\n",
       "      <td>31.382701</td>\n",
       "      <td>575.644627</td>\n",
       "      <td>12.813260</td>\n",
       "      <td>3.430753e+07</td>\n",
       "      <td>1.446383e+08</td>\n",
       "    </tr>\n",
       "    <tr>\n",
       "      <th>min</th>\n",
       "      <td>5.000000</td>\n",
       "      <td>0.000065</td>\n",
       "      <td>0.000000</td>\n",
       "      <td>10.000000</td>\n",
       "      <td>1960.000000</td>\n",
       "      <td>0.000000e+00</td>\n",
       "      <td>0.000000e+00</td>\n",
       "    </tr>\n",
       "    <tr>\n",
       "      <th>25%</th>\n",
       "      <td>10596.000000</td>\n",
       "      <td>0.207575</td>\n",
       "      <td>90.000000</td>\n",
       "      <td>17.000000</td>\n",
       "      <td>1995.000000</td>\n",
       "      <td>0.000000e+00</td>\n",
       "      <td>0.000000e+00</td>\n",
       "    </tr>\n",
       "    <tr>\n",
       "      <th>50%</th>\n",
       "      <td>20662.000000</td>\n",
       "      <td>0.383831</td>\n",
       "      <td>99.000000</td>\n",
       "      <td>38.000000</td>\n",
       "      <td>2006.000000</td>\n",
       "      <td>0.000000e+00</td>\n",
       "      <td>0.000000e+00</td>\n",
       "    </tr>\n",
       "    <tr>\n",
       "      <th>75%</th>\n",
       "      <td>75612.000000</td>\n",
       "      <td>0.713857</td>\n",
       "      <td>111.000000</td>\n",
       "      <td>146.000000</td>\n",
       "      <td>2011.000000</td>\n",
       "      <td>2.085325e+07</td>\n",
       "      <td>3.370173e+07</td>\n",
       "    </tr>\n",
       "    <tr>\n",
       "      <th>max</th>\n",
       "      <td>417859.000000</td>\n",
       "      <td>32.985763</td>\n",
       "      <td>900.000000</td>\n",
       "      <td>9767.000000</td>\n",
       "      <td>2015.000000</td>\n",
       "      <td>4.250000e+08</td>\n",
       "      <td>2.827124e+09</td>\n",
       "    </tr>\n",
       "  </tbody>\n",
       "</table>\n",
       "</div>"
      ],
      "text/plain": [
       "                  id    popularity       runtime    vote_count  release_year  \\\n",
       "count   10865.000000  10865.000000  10865.000000  10865.000000  10865.000000   \n",
       "mean    66066.374413      0.646446    102.071790    217.399632   2001.321859   \n",
       "std     92134.091971      1.000231     31.382701    575.644627     12.813260   \n",
       "min         5.000000      0.000065      0.000000     10.000000   1960.000000   \n",
       "25%     10596.000000      0.207575     90.000000     17.000000   1995.000000   \n",
       "50%     20662.000000      0.383831     99.000000     38.000000   2006.000000   \n",
       "75%     75612.000000      0.713857    111.000000    146.000000   2011.000000   \n",
       "max    417859.000000     32.985763    900.000000   9767.000000   2015.000000   \n",
       "\n",
       "         budget_adj   revenue_adj  \n",
       "count  1.086500e+04  1.086500e+04  \n",
       "mean   1.754989e+07  5.136900e+07  \n",
       "std    3.430753e+07  1.446383e+08  \n",
       "min    0.000000e+00  0.000000e+00  \n",
       "25%    0.000000e+00  0.000000e+00  \n",
       "50%    0.000000e+00  0.000000e+00  \n",
       "75%    2.085325e+07  3.370173e+07  \n",
       "max    4.250000e+08  2.827124e+09  "
      ]
     },
     "execution_count": 14,
     "metadata": {},
     "output_type": "execute_result"
    }
   ],
   "source": [
    "data_v2.describe()"
   ]
  },
  {
   "cell_type": "code",
   "execution_count": 15,
   "id": "7b9be8f9",
   "metadata": {},
   "outputs": [
    {
     "data": {
      "image/png": "[encoded data removed]",
      "text/plain": [
       "<Figure size 864x288 with 2 Axes>"
      ]
     },
     "metadata": {
      "needs_background": "light"
     },
     "output_type": "display_data"
    }
   ],
   "source": [
    "##plotting a histogram of revenue and budget columns\n",
    "fig,axes = plt.subplots(1,2)\n",
    "data_v2.revenue_adj.hist( bins = 30 ,ax = axes[0],figsize = (12,4))\n",
    "data_v2.budget_adj.hist(bins = 30,ax = axes[1])\n",
    "plt.ylim(0,1000)\n",
    "plt.show()\n"
   ]
  },
  {
   "cell_type": "markdown",
   "id": "72cdbdc1",
   "metadata": {},
   "source": [
    "The histograms above show that some movies in the dataset contain lots of  zeroes in the columns of budget and revenue.This doesnt make sense.Judging by the skewness of the distributions we should replace the zeros with the median.However, the high number of zeros means that the median is also zero!We shall use the mean instead and disregards its limitations with this distribution.We shall also create a new column to record the profit made from the movies."
   ]
  },
  {
   "cell_type": "code",
   "execution_count": 16,
   "id": "40481fb6",
   "metadata": {},
   "outputs": [
    {
     "data": {
      "text/html": [
       "<div>\n",
       "<style scoped>\n",
       "    .dataframe tbody tr th:only-of-type {\n",
       "        vertical-align: middle;\n",
       "    }\n",
       "\n",
       "    .dataframe tbody tr th {\n",
       "        vertical-align: top;\n",
       "    }\n",
       "\n",
       "    .dataframe thead th {\n",
       "        text-align: right;\n",
       "    }\n",
       "</style>\n",
       "<table border=\"1\" class=\"dataframe\">\n",
       "  <thead>\n",
       "    <tr style=\"text-align: right;\">\n",
       "      <th></th>\n",
       "      <th>budget_adj</th>\n",
       "      <th>revenue_adj</th>\n",
       "    </tr>\n",
       "  </thead>\n",
       "  <tbody>\n",
       "    <tr>\n",
       "      <th>count</th>\n",
       "      <td>1.086500e+04</td>\n",
       "      <td>1.086500e+04</td>\n",
       "    </tr>\n",
       "    <tr>\n",
       "      <th>mean</th>\n",
       "      <td>2.675046e+07</td>\n",
       "      <td>7.981225e+07</td>\n",
       "    </tr>\n",
       "    <tr>\n",
       "      <th>std</th>\n",
       "      <td>3.051007e+07</td>\n",
       "      <td>1.365647e+08</td>\n",
       "    </tr>\n",
       "    <tr>\n",
       "      <th>min</th>\n",
       "      <td>9.210911e-01</td>\n",
       "      <td>2.370705e+00</td>\n",
       "    </tr>\n",
       "    <tr>\n",
       "      <th>25%</th>\n",
       "      <td>1.754989e+07</td>\n",
       "      <td>5.136900e+07</td>\n",
       "    </tr>\n",
       "    <tr>\n",
       "      <th>50%</th>\n",
       "      <td>1.754989e+07</td>\n",
       "      <td>5.136900e+07</td>\n",
       "    </tr>\n",
       "    <tr>\n",
       "      <th>75%</th>\n",
       "      <td>2.085325e+07</td>\n",
       "      <td>5.136900e+07</td>\n",
       "    </tr>\n",
       "    <tr>\n",
       "      <th>max</th>\n",
       "      <td>4.250000e+08</td>\n",
       "      <td>2.827124e+09</td>\n",
       "    </tr>\n",
       "  </tbody>\n",
       "</table>\n",
       "</div>"
      ],
      "text/plain": [
       "         budget_adj   revenue_adj\n",
       "count  1.086500e+04  1.086500e+04\n",
       "mean   2.675046e+07  7.981225e+07\n",
       "std    3.051007e+07  1.365647e+08\n",
       "min    9.210911e-01  2.370705e+00\n",
       "25%    1.754989e+07  5.136900e+07\n",
       "50%    1.754989e+07  5.136900e+07\n",
       "75%    2.085325e+07  5.136900e+07\n",
       "max    4.250000e+08  2.827124e+09"
      ]
     },
     "execution_count": 16,
     "metadata": {},
     "output_type": "execute_result"
    }
   ],
   "source": [
    "## replacing zeroes with the mean in the budegt and revenue columns\n",
    "var = [\"budget_adj\",\"revenue_adj\"]\n",
    "for col in var:\n",
    "    data_v2[col] = data_v2[col].replace(0,data_v2[col].mean())\n",
    "## confirming the changes\n",
    "data_v2[[\"budget_adj\",\"revenue_adj\"]].describe()\n"
   ]
  },
  {
   "cell_type": "code",
   "execution_count": 17,
   "id": "20317c3a",
   "metadata": {},
   "outputs": [
    {
     "data": {
      "text/plain": [
       "count    1.086500e+04\n",
       "mean     5.306179e+07\n",
       "std      1.206776e+08\n",
       "min     -4.139124e+08\n",
       "25%      2.017888e+07\n",
       "50%      3.381911e+07\n",
       "75%      3.905412e+07\n",
       "max      2.750137e+09\n",
       "Name: profit, dtype: float64"
      ]
     },
     "execution_count": 17,
     "metadata": {},
     "output_type": "execute_result"
    }
   ],
   "source": [
    "## Generating a column for profit\n",
    "data_v2['profit'] = data_v2.revenue_adj - data_v2.budget_adj\n",
    "data_v2.profit.describe()"
   ]
  },
  {
   "cell_type": "code",
   "execution_count": 18,
   "id": "76842d84",
   "metadata": {},
   "outputs": [
    {
     "data": {
      "text/plain": [
       "0          6/9/15\n",
       "1         5/13/15\n",
       "2         3/18/15\n",
       "3        12/15/15\n",
       "4          4/1/15\n",
       "           ...   \n",
       "10861     6/15/66\n",
       "10862    12/21/66\n",
       "10863      1/1/66\n",
       "10864     11/2/66\n",
       "10865    11/15/66\n",
       "Name: release_date, Length: 10865, dtype: object"
      ]
     },
     "execution_count": 18,
     "metadata": {},
     "output_type": "execute_result"
    }
   ],
   "source": [
    "data_v2.release_date"
   ]
  },
  {
   "cell_type": "markdown",
   "id": "c5aeaa33",
   "metadata": {},
   "source": [
    "Let's change the data type of `id` from `int` to `str`.It isnt very intuitve for it to remain as `int` because we are not going to perform any arithmetic manipulations on it.Additionally the `release_date` variable has been saved as string instead of datetime.Let's correct these incorrect data types in the following cell."
   ]
  },
  {
   "cell_type": "code",
   "execution_count": 19,
   "id": "1dda765c",
   "metadata": {},
   "outputs": [
    {
     "data": {
      "text/plain": [
       "10856   2066-02-16\n",
       "10857   2066-06-10\n",
       "10858   2066-05-25\n",
       "10859   2066-10-05\n",
       "10860   2066-05-20\n",
       "10861   2066-06-15\n",
       "10862   2066-12-21\n",
       "10863   2066-01-01\n",
       "10864   2066-11-02\n",
       "10865   2066-11-15\n",
       "Name: release_date, dtype: datetime64[ns]"
      ]
     },
     "execution_count": 19,
     "metadata": {},
     "output_type": "execute_result"
    }
   ],
   "source": [
    "data_v2['id'] = data_v2.id.astype(str)\n",
    "data_v2['release_date'] = pd.to_datetime(data_v2['release_date'],infer_datetime_format= True)\n",
    "## confirm data types\n",
    "data_v2.release_date.tail(10)"
   ]
  },
  {
   "cell_type": "markdown",
   "id": "071137eb",
   "metadata": {},
   "source": [
    "`pd.to_datetime()` has incorrectly read some years.For example the last rows contain movies released in 2066.This erroneous.The function incorrectly years ending in *66*  as 2066 instead of 1966.Fortunately the `release_year` contains the correct year.We shall keep this column and extract the `month` from the `release_date` column."
   ]
  },
  {
   "cell_type": "code",
   "execution_count": 20,
   "id": "d2739744",
   "metadata": {},
   "outputs": [
    {
     "data": {
      "text/plain": [
       "Index(['id', 'popularity', 'original_title', 'runtime', 'release_date',\n",
       "       'vote_count', 'release_year', 'budget_adj', 'revenue_adj', 'genre',\n",
       "       'profit', 'month'],\n",
       "      dtype='object')"
      ]
     },
     "execution_count": 20,
     "metadata": {},
     "output_type": "execute_result"
    }
   ],
   "source": [
    "## extracting the month\n",
    "data_v2['month'] = pd.DatetimeIndex(data_v2.release_date).month\n",
    "## extact the months as text\n",
    "data_v2['month'] = data_v2['month'].apply(lambda x: calendar.month_abbr[x])\n",
    "#view changes\n",
    "data_v2.columns"
   ]
  },
  {
   "cell_type": "code",
   "execution_count": 21,
   "id": "43287d77",
   "metadata": {},
   "outputs": [],
   "source": [
    "## drop budget_adj,release_date revenue_adj\n",
    "data_cleaned = data_v2.drop([\"budget_adj\",\"release_date\",\"revenue_adj\"], axis = 1)"
   ]
  },
  {
   "cell_type": "markdown",
   "id": "3c25500e",
   "metadata": {},
   "source": [
    "## EXPLORATORY DATA ANALYSIS\n",
    "In this section we shall provide answers to our questions using the cleaned dataset\n",
    "\n",
    "## Are movies becoming more popular and profitable over time\n",
    "\n",
    "Let's first investigate how the popularity of movies changes across the different months in a year"
   ]
  },
  {
   "cell_type": "code",
   "execution_count": 22,
   "id": "5d275a7f",
   "metadata": {},
   "outputs": [
    {
     "data": {
      "text/plain": [
       "month\n",
       "Apr    0.562475\n",
       "Aug    0.584363\n",
       "Dec    0.750784\n",
       "Feb    0.589931\n",
       "Jan    0.460574\n",
       "Jul    0.747678\n",
       "Jun    0.800755\n",
       "Mar    0.642808\n",
       "May    0.749997\n",
       "Nov    0.755466\n",
       "Oct    0.613168\n",
       "Sep    0.564820\n",
       "Name: popularity, dtype: float64"
      ]
     },
     "execution_count": 22,
     "metadata": {},
     "output_type": "execute_result"
    }
   ],
   "source": [
    "data_cleaned.groupby('month')['popularity'].mean()"
   ]
  },
  {
   "cell_type": "markdown",
   "id": "55916387",
   "metadata": {},
   "source": [
    "It looks like movies released in mid year and towards the end of the year had more average popularity ratings than those released at the start of the year.Lets visualize this relationship using bargraphs."
   ]
  },
  {
   "cell_type": "code",
   "execution_count": 23,
   "id": "a07ed004",
   "metadata": {},
   "outputs": [
    {
     "data": {
      "image/png": "[encoded data removed]",
      "text/plain": [
       "<Figure size 864x288 with 1 Axes>"
      ]
     },
     "metadata": {
      "needs_background": "light"
     },
     "output_type": "display_data"
    }
   ],
   "source": [
    "figure(figsize = (12,4))\n",
    "data_cleaned.groupby('month')['popularity'].mean().sort_index().plot(kind = 'bar',color = 'green')\n",
    "plt.title(\"Monthly Average popularity ratings\",fontsize = 12)\n",
    "plt.ylabel(\"Average popularity ratings\",fontsize = 12)\n",
    "plt.xlabel(\"Months\",fontsize = 12)\n",
    "plt.xticks(rotation = 0)\n",
    "plt.yticks(fontsize = 12)\n",
    "plt.xticks(fontsize = 12);"
   ]
  },
  {
   "cell_type": "code",
   "execution_count": 24,
   "id": "360e8e16",
   "metadata": {},
   "outputs": [
    {
     "data": {
      "text/plain": [
       "release_year\n",
       "1960    0.458932\n",
       "1961    0.422827\n",
       "1962    0.454783\n",
       "1963    0.502706\n",
       "1964    0.412428\n",
       "1965    0.342587\n",
       "1966    0.304112\n",
       "1967    0.471154\n",
       "1968    0.484202\n",
       "1969    0.422778\n",
       "1970    0.341700\n",
       "1971    0.448112\n",
       "1972    0.449054\n",
       "1973    0.494462\n",
       "1974    0.447829\n",
       "1975    0.519445\n",
       "1976    0.474516\n",
       "1977    0.626387\n",
       "1978    0.413314\n",
       "1979    0.589312\n",
       "1980    0.495652\n",
       "1981    0.442413\n",
       "1982    0.543353\n",
       "1983    0.541445\n",
       "1984    0.590843\n",
       "1985    0.584058\n",
       "1986    0.509545\n",
       "1987    0.504637\n",
       "1988    0.465039\n",
       "1989    0.563658\n",
       "1990    0.535735\n",
       "1991    0.501090\n",
       "1992    0.582913\n",
       "1993    0.547056\n",
       "1994    0.668825\n",
       "1995    0.710722\n",
       "1996    0.604768\n",
       "1997    0.712003\n",
       "1998    0.626165\n",
       "1999    0.645799\n",
       "2000    0.546799\n",
       "2001    0.702658\n",
       "2002    0.701454\n",
       "2003    0.719083\n",
       "2004    0.722438\n",
       "2005    0.628663\n",
       "2006    0.606371\n",
       "2007    0.593161\n",
       "2008    0.584817\n",
       "2009    0.600178\n",
       "2010    0.645058\n",
       "2011    0.675069\n",
       "2012    0.607197\n",
       "2013    0.627627\n",
       "2014    0.887268\n",
       "2015    1.030657\n",
       "Name: popularity, dtype: float64"
      ]
     },
     "execution_count": 24,
     "metadata": {},
     "output_type": "execute_result"
    }
   ],
   "source": [
    "## year\n",
    "data_cleaned.groupby('release_year')['popularity'].mean()\n"
   ]
  },
  {
   "cell_type": "markdown",
   "id": "bd22a1fb",
   "metadata": {},
   "source": [
    " Looks like the popularity of movies has increased from the 1960's to 2015.Let's Let's plot these trends.As we shall be plotting trends with the profit variable,we shall define a function `line_plot` to reduce code repetition.The function will take in as inputs the value for the x axis and the variable for the y axis and return a line plot."
   ]
  },
  {
   "cell_type": "code",
   "execution_count": 37,
   "id": "028e6c5d",
   "metadata": {},
   "outputs": [
    {
     "data": {
      "image/png": "[encoded data removed]",
      "text/plain": [
       "<Figure size 1368x288 with 1 Axes>"
      ]
     },
     "metadata": {
      "needs_background": "light"
     },
     "output_type": "display_data"
    }
   ],
   "source": [
    "# define a function\n",
    "def line_plot(var_x,var_y):\n",
    "    figure(figsize = (19,4))\n",
    "    data_cleaned.groupby(var_x)[var_y].mean().plot(kind = 'line',color = 'blue')\n",
    "    plt.title(f\"Yearly trends in Average'{var_y}'\" ,fontsize = 12)\n",
    "    plt.ylabel(f\"Average '{var_y}'\",fontsize = 12)\n",
    "    plt.xlabel(var_x,fontsize = 12)\n",
    "    plt.yticks(fontsize = 12)\n",
    "    plt.xticks(fontsize = 12);\n",
    "line_plot(\"release_year\",\"popularity\")"
   ]
  },
  {
   "cell_type": "markdown",
   "id": "e2942f23",
   "metadata": {},
   "source": [
    " ## Question two : Determinants of the popularity of a movie\n",
    " \n",
    "  "
   ]
  },
  {
   "cell_type": "code",
   "execution_count": 26,
   "id": "9480e1bc",
   "metadata": {},
   "outputs": [
    {
     "data": {
      "text/plain": [
       "genre\n",
       "Adventure          1.217868\n",
       "Science Fiction    1.073096\n",
       "Fantasy            0.865390\n",
       "Action             0.836394\n",
       "Animation          0.810370\n",
       "War                0.767041\n",
       "History            0.764636\n",
       "Family             0.730987\n",
       "Romance            0.704157\n",
       "Crime              0.694063\n",
       "Western            0.690646\n",
       "Thriller           0.673381\n",
       "Mystery            0.596896\n",
       "Drama              0.552446\n",
       "Comedy             0.537133\n",
       "Horror             0.468611\n",
       "Music              0.447730\n",
       "TV Movie           0.246190\n",
       "Documentary        0.177023\n",
       "unknown            0.167966\n",
       "Foreign            0.167124\n",
       "Name: popularity, dtype: float64"
      ]
     },
     "execution_count": 26,
     "metadata": {},
     "output_type": "execute_result"
    }
   ],
   "source": [
    "data_cleaned.groupby('genre')['popularity'].mean().sort_values(ascending = False)"
   ]
  },
  {
   "cell_type": "markdown",
   "id": "46e9b055",
   "metadata": {},
   "source": [
    "The top three popular genres are adventure,science fiction and fantasy.The foreign genre is the least popular.The genre 1 contains some erroneus genres like Tv movie and music.These can be further cleaned.We can visualize these result using a bar chart."
   ]
  },
  {
   "cell_type": "code",
   "execution_count": 27,
   "id": "e5a3103e",
   "metadata": {},
   "outputs": [
    {
     "data": {
      "image/png": "[encoded data removed]",
      "text/plain": [
       "<Figure size 1080x288 with 1 Axes>"
      ]
     },
     "metadata": {
      "needs_background": "light"
     },
     "output_type": "display_data"
    }
   ],
   "source": [
    "figure(figsize = (15,4))\n",
    "data_cleaned.groupby('genre')['popularity'].mean().sort_values(ascending = False).plot(kind = 'bar',color = 'green')\n",
    "plt.title(\"Average popularity ratings by genre\",fontsize = 12)\n",
    "plt.ylabel(\"Average popukairty ratings\",fontsize = 12)\n",
    "plt.xlabel(\"Genre\",fontsize = 12)\n",
    "plt.yticks(fontsize = 12)\n",
    "plt.xticks(fontsize = 12);"
   ]
  },
  {
   "cell_type": "markdown",
   "id": "795834b9",
   "metadata": {},
   "source": [
    "## Relationshp between popularity, Release_year ,profit and Genre\n",
    "In this final question,we shall exmine the relationships between popularity,release-year and genre  and the profit of movies.Let's first visualize the trends in the yearly profitability of movies."
   ]
  },
  {
   "cell_type": "code",
   "execution_count": 38,
   "id": "fdf123e2",
   "metadata": {},
   "outputs": [
    {
     "data": {
      "image/png": "[encoded data removed]",
      "text/plain": [
       "<Figure size 1368x288 with 1 Axes>"
      ]
     },
     "metadata": {
      "needs_background": "light"
     },
     "output_type": "display_data"
    }
   ],
   "source": [
    "line_plot(\"release_year\",\"profit\")"
   ]
  },
  {
   "cell_type": "markdown",
   "id": "9f9f21d4",
   "metadata": {},
   "source": [
    "Whereas we saw earelier that the popularity of movies had increased over the years under review,the profitability of movies decreased from the 1980s to 2015.\n",
    "Lets summairze the mean profit made by all the movies and group them according to their popularity,genre and release year.We'll view the top 50 movies first and sort them in descending order by their profit."
   ]
  },
  {
   "cell_type": "code",
   "execution_count": 29,
   "id": "303aa455",
   "metadata": {},
   "outputs": [
    {
     "data": {
      "text/plain": [
       "popularity  genre            release_year\n",
       "9.432768    Action           2009            2.586237e+09\n",
       "4.355219    Drama            1997            2.234714e+09\n",
       "2.010733    Drama            1973            2.128036e+09\n",
       "2.563191    Horror           1975            1.878643e+09\n",
       "2.900556    Science Fiction  1982            1.767968e+09\n",
       "11.173104   Action           2015            1.718723e+09\n",
       "1.136610    Crime            1995            1.551568e+09\n",
       "2.631987    Adventure        1961            1.545635e+09\n",
       "5.488441    Adventure        1980            1.376998e+09\n",
       "2.550704    Family           1967            1.319404e+09\n",
       "2.204926    Adventure        1993            1.293767e+09\n",
       "32.985763   Action           2015            1.254446e+09\n",
       "5.738034    Drama            1972            1.246626e+09\n",
       "7.637767    Science Fiction  2012            1.234248e+09\n",
       "7.122455    Adventure        2003            1.214855e+09\n",
       "9.335014    Action           2015            1.210949e+09\n",
       "4.828854    Adventure        1983            1.182995e+09\n",
       "5.711315    Adventure        2011            1.166009e+09\n",
       "4.782688    Family           1994            1.093392e+09\n",
       "1.313676    Drama            1965            1.072786e+09\n",
       "3.526029    Adventure        1999            1.059439e+09\n",
       "6.112766    Animation        2013            1.052306e+09\n",
       "8.021423    Adventure        2001            1.048582e+09\n",
       "5.944927    Action           2015            1.035032e+09\n",
       "4.480733    Action           1996            1.031498e+09\n",
       "8.095275    Adventure        2002            1.027134e+09\n",
       "1.104816    Science Fiction  1977            1.021009e+09\n",
       "7.404165    Family           2015            9.961120e+08\n",
       "8.575419    Adventure        2001            9.585514e+08\n",
       "4.946136    Action           2013            9.504857e+08\n",
       "6.012584    Adventure        2002            9.415495e+08\n",
       "4.205992    Adventure        2006            9.363575e+08\n",
       "6.715966    Comedy           1994            9.164222e+08\n",
       "3.440519    Animation        2003            9.134635e+08\n",
       "1.910465    Adventure        1965            9.010273e+08\n",
       "0.760503    Action           2011            9.003255e+08\n",
       "4.578300    Adventure        1981            8.919494e+08\n",
       "2.191033    Adventure        2004            8.887368e+08\n",
       "2.711136    Animation        2010            8.631719e+08\n",
       "5.603587    Action           2012            8.629006e+08\n",
       "3.153791    Adventure        1964            8.534745e+08\n",
       "0.602862    Drama            1977            8.404891e+08\n",
       "3.928789    Animation        2013            8.375270e+08\n",
       "5.939927    Adventure        2005            8.328680e+08\n",
       "4.878162    Adventure        2007            8.289386e+08\n",
       "2.578731    Mystery          1999            8.283769e+08\n",
       "3.241129    Fantasy          2002            8.276212e+08\n",
       "8.466668    Drama            2008            8.273675e+08\n",
       "5.572950    Family           2010            8.254671e+08\n",
       "Name: profit, dtype: float64"
      ]
     },
     "execution_count": 29,
     "metadata": {},
     "output_type": "execute_result"
    }
   ],
   "source": [
    "data_cleaned.groupby(['popularity','genre','release_year'])['profit'].mean().sort_values(ascending = False)[1:50]"
   ]
  },
  {
   "cell_type": "markdown",
   "id": "5766bdb1",
   "metadata": {},
   "source": [
    "There isnt a distinct relationship between popularity and profit with these records.Let's view the 50 least profitable films.\n"
   ]
  },
  {
   "cell_type": "code",
   "execution_count": 30,
   "id": "78d3a952",
   "metadata": {},
   "outputs": [
    {
     "data": {
      "text/plain": [
       "popularity  genre            release_year\n",
       "0.530544    Action           1997           -5.977225e+07\n",
       "0.242797    Comedy           1999           -6.021643e+07\n",
       "0.455247    Action           2002           -6.070516e+07\n",
       "1.150934    Adventure        1999           -6.131695e+07\n",
       "0.111351    Animation        2012           -6.166338e+07\n",
       "0.782091    Action           1992           -6.186353e+07\n",
       "0.974222    Adventure        2001           -6.387503e+07\n",
       "1.689869    Fantasy          2013           -6.397928e+07\n",
       "0.536259    Comedy           1997           -6.410013e+07\n",
       "0.606286    Action           2005           -6.483554e+07\n",
       "0.492559    Thriller         1998           -6.705792e+07\n",
       "0.491888    Music            1984           -6.731896e+07\n",
       "0.726521    Science Fiction  2007           -6.828325e+07\n",
       "0.757082    War              2010           -6.863100e+07\n",
       "0.651772    Action           1998           -6.902359e+07\n",
       "0.533292    Drama            1966           -6.955526e+07\n",
       "0.999866    Science Fiction  1997           -7.089243e+07\n",
       "0.640576    Comedy           2010           -7.133109e+07\n",
       "1.047214    Action           2003           -7.173667e+07\n",
       "0.378188    Drama            1999           -7.252338e+07\n",
       "0.764791    Fantasy          2010           -7.382104e+07\n",
       "1.142781    Thriller         2007           -7.532700e+07\n",
       "0.439101    Adventure        2001           -7.561717e+07\n",
       "1.045604    Adventure        1986           -7.631000e+07\n",
       "0.977243    Action           1991           -7.650329e+07\n",
       "0.393985    Action           1999           -7.688857e+07\n",
       "0.538043    Action           2005           -7.797352e+07\n",
       "0.722330    Thriller         2002           -7.859216e+07\n",
       "0.654013    Horror           1999           -7.983823e+07\n",
       "0.577579    Action           1998           -8.083977e+07\n",
       "1.468543    Drama            2008           -8.147463e+07\n",
       "0.626900    Thriller         2005           -8.263725e+07\n",
       "1.031334    Drama            1997           -8.278450e+07\n",
       "1.152417    Science Fiction  1998           -8.280335e+07\n",
       "0.648088    Drama            1997           -8.473229e+07\n",
       "0.263042    Adventure        2001           -8.569985e+07\n",
       "0.092150    Action           1970           -8.904021e+07\n",
       "1.390297    Adventure        2006           -9.144505e+07\n",
       "0.536631    Comedy           2006           -9.194172e+07\n",
       "0.385350    Science Fiction  2000           -9.518961e+07\n",
       "0.642475    Horror           2010           -9.863100e+07\n",
       "0.418950    Action           1980           -1.072059e+08\n",
       "0.921653    Adventure        2011           -1.076102e+08\n",
       "0.912373    Action           2002           -1.126143e+08\n",
       "0.981049    Action           1995           -1.137371e+08\n",
       "1.653031    Animation        2003           -1.185350e+08\n",
       "1.189386    Adventure        1999           -1.286813e+08\n",
       "0.948560    Western          2004           -1.375868e+08\n",
       "1.214510    Action           2013           -1.551102e+08\n",
       "0.250540    Adventure        2010           -4.139124e+08\n",
       "Name: profit, dtype: float64"
      ]
     },
     "execution_count": 30,
     "metadata": {},
     "output_type": "execute_result"
    }
   ],
   "source": [
    "data_cleaned.groupby(['popularity','genre','release_year'])['profit'].mean().sort_values(ascending = False).tail(50)"
   ]
  },
  {
   "cell_type": "markdown",
   "id": "63cdf675",
   "metadata": {},
   "source": [
    "The relationsip is also not clear.Lets plot a scatterplot of popularity,profit and genre."
   ]
  },
  {
   "cell_type": "code",
   "execution_count": 31,
   "id": "25c073a9",
   "metadata": {},
   "outputs": [
    {
     "data": {
      "text/plain": [
       "Text(0.5, 0, 'Popularity ratings')"
      ]
     },
     "execution_count": 31,
     "metadata": {},
     "output_type": "execute_result"
    },
    {
     "data": {
      "image/png": "[encoded data removed]",
      "text/plain": [
       "<Figure size 648x648 with 1 Axes>"
      ]
     },
     "metadata": {
      "needs_background": "light"
     },
     "output_type": "display_data"
    }
   ],
   "source": [
    "figure(figsize = (9,9))\n",
    "sns.scatterplot(x = \"popularity\",y = \"profit\",hue = 'genre',data = data_cleaned)\n",
    "## set the limits for both axes to remove outliers\n",
    "plt.ylim(0,1.51e9)\n",
    "plt.xlim(0,15)\n",
    "plt.title(\"Relationship between Profit,Popularity and Genre\",fontsize = 12)\n",
    "plt.ylabel(\"Profit\",fontsize = 12)\n",
    "plt.xlabel(\"Popularity ratings\",fontsize = 12)"
   ]
  },
  {
   "cell_type": "markdown",
   "id": "0887bb20",
   "metadata": {},
   "source": [
    "The plot above shows that there is a strong positive relationship between profit and popularity.Action,adventure and western movies also seem to be  more popular and profitable  compared to the other genres.\n"
   ]
  },
  {
   "cell_type": "markdown",
   "id": "c368ac46",
   "metadata": {},
   "source": [
    "## Conclusion\n",
    "    1) Movies have become popular over the years.These although not explained by the data can be atributed to the development of better movie making technology that allows  the creation of intriguing storylines and visuals that captivate audiences.\n",
    "    2) The profitability of movies has decreased sharply over the years.This can perhaps be explained by the rise of internet and online movie streaming websites that have diverted audiences from the traditional cinemas.The fact that movies can be easily downloaded and shared by people means that movie production companies lose money as many can now watch movies without neccessarily paying for them\n",
    "    3)The most popular movie genres are;adventure,science fiction,fantasy and action.\n",
    "    4)Movies released mid year and towards the holidays had  the highest popularity ratings.\n",
    "    \n",
    "## Limitations of this analysis\n",
    "    1) The presence of many missing values in the budgt and revenue columns(that generated the profit variable) limits the reliability of the above conclusions.Null values were filled with the mean.The means used therefore cannot be relied upon.\n",
    "    2) No inferential tests were conducted in this analysis to test the above conclusions.\n"
   ]
  },
  {
   "cell_type": "code",
   "execution_count": null,
   "id": "06adb8f6",
   "metadata": {},
   "outputs": [],
   "source": []
  },
  {
   "cell_type": "code",
   "execution_count": null,
   "id": "661502fa",
   "metadata": {},
   "outputs": [],
   "source": []
  }
 ],
 "metadata": {
  "kernelspec": {
   "display_name": "Python 3 (ipykernel)",
   "language": "python",
   "name": "python3"
  },
  "language_info": {
   "codemirror_mode": {
    "name": "ipython",
    "version": 3
   },
   "file_extension": ".py",
   "mimetype": "text/x-python",
   "name": "python",
   "nbconvert_exporter": "python",
   "pygments_lexer": "ipython3",
   "version": "3.7.13"
  }
 },
 "nbformat": 4,
 "nbformat_minor": 5
}
